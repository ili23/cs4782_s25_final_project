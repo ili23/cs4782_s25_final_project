{
 "cells": [
  {
   "cell_type": "code",
   "execution_count": 1,
   "metadata": {},
   "outputs": [],
   "source": [
    "import pandas as pd"
   ]
  },
  {
   "cell_type": "code",
   "execution_count": null,
   "metadata": {},
   "outputs": [],
   "source": [
    "# TODO: Plot some initial data distribution and check for bad data"
   ]
  },
  {
   "cell_type": "code",
   "execution_count": null,
   "metadata": {},
   "outputs": [
    {
     "name": "stdout",
     "output_type": "stream",
     "text": [
      "                                                                                                                                             PERCENTAGE OF VISITS FOR INFLUENZA-LIKE-ILLNESS REPORTED BY SENTINEL PROVIDERS\n",
      "REGION TYPE REGION YEAR WEEK % WEIGHTED ILI %UNWEIGHTED ILI AGE 0-4 AGE 25-49 AGE 25-64 AGE 5-24 AGE 50-64 AGE 65 ILITOTAL NUM. OF PROVIDERS                                     TOTAL PATIENTS                            \n",
      "National    X      1997 40   1.10148        1.21686         179     X         157       205      X         29     570      192                                                            46842                            \n",
      "                        41   1.20007        1.28064         199     X         151       242      X         23     615      191                                                            48023                            \n",
      "                        42   1.37876        1.23906         228     X         153       266      X         34     681      219                                                            54961                            \n",
      "                        43   1.1992         1.14473         188     X         193       236      X         36     653      213                                                            57044                            \n",
      "<class 'pandas.core.frame.DataFrame'>\n",
      "MultiIndex: 1439 entries, ('REGION TYPE', 'REGION', 'YEAR', 'WEEK', '% WEIGHTED ILI', '%UNWEIGHTED ILI', 'AGE 0-4', 'AGE 25-49', 'AGE 25-64', 'AGE 5-24', 'AGE 50-64', 'AGE 65', 'ILITOTAL', 'NUM. OF PROVIDERS') to ('National', 'X', '2025', '16', '2.2757', '2.21627', '11034', '15477', 'X', '17588', '5911', '6085', '56095', '4084')\n",
      "Data columns (total 1 columns):\n",
      " #   Column                                                                          Non-Null Count  Dtype \n",
      "---  ------                                                                          --------------  ----- \n",
      " 0   PERCENTAGE OF VISITS FOR INFLUENZA-LIKE-ILLNESS REPORTED BY SENTINEL PROVIDERS  1439 non-null   object\n",
      "dtypes: object(1)\n",
      "memory usage: 406.0+ KB\n",
      "None\n"
     ]
    }
   ],
   "source": [
    "ILINET_DATA = pass\n",
    "ELECTRICITY_DATA = pass\n",
    "ETTH1_DATA = pass\n",
    "ETTH2_DATA = pass\n",
    "ETTM1_DATA = pass\n",
    "ETTM2_DATA = pass\n",
    "WEATHER_DATA = pass\n",
    "TRAFFIC_DATA = pass\n"
   ]
  }
 ],
 "metadata": {
  "kernelspec": {
   "display_name": "base",
   "language": "python",
   "name": "python3"
  },
  "language_info": {
   "codemirror_mode": {
    "name": "ipython",
    "version": 3
   },
   "file_extension": ".py",
   "mimetype": "text/x-python",
   "name": "python",
   "nbconvert_exporter": "python",
   "pygments_lexer": "ipython3",
   "version": "3.8.8"
  }
 },
 "nbformat": 4,
 "nbformat_minor": 2
}
