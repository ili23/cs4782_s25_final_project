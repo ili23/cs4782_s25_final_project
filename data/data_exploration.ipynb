{
 "cells": [
  {
   "cell_type": "code",
   "execution_count": 11,
   "metadata": {},
   "outputs": [],
   "source": [
    "import pandas as pd"
   ]
  },
  {
   "cell_type": "code",
   "execution_count": 21,
   "metadata": {},
   "outputs": [
    {
     "name": "stdout",
     "output_type": "stream",
     "text": [
      "                  date  % WEIGHTED ILI  %UNWEIGHTED ILI  AGE 0-4  AGE 5-24  \\\n",
      "0  2002-01-01 00:00:00         1.22262          1.16668      582       805   \n",
      "1  2002-01-08 00:00:00         1.33344          1.21650      683       872   \n",
      "2  2002-01-15 00:00:00         1.31929          1.13057      642       878   \n",
      "3  2002-01-22 00:00:00         1.49484          1.25246      728      1045   \n",
      "4  2002-01-29 00:00:00         1.47195          1.30237      823      1189   \n",
      "\n",
      "   ILITOTAL  NUM. OF PROVIDERS      OT  \n",
      "0      2060                754  176569  \n",
      "1      2267                785  186355  \n",
      "2      2176                831  192469  \n",
      "3      2599                863  207512  \n",
      "4      2907                909  223208  \n",
      "<class 'pandas.core.frame.DataFrame'>\n",
      "RangeIndex: 966 entries, 0 to 965\n",
      "Data columns (total 8 columns):\n",
      " #   Column             Non-Null Count  Dtype  \n",
      "---  ------             --------------  -----  \n",
      " 0   date               966 non-null    object \n",
      " 1   % WEIGHTED ILI     966 non-null    float64\n",
      " 2   %UNWEIGHTED ILI    966 non-null    float64\n",
      " 3   AGE 0-4            966 non-null    int64  \n",
      " 4   AGE 5-24           966 non-null    int64  \n",
      " 5   ILITOTAL           966 non-null    int64  \n",
      " 6   NUM. OF PROVIDERS  966 non-null    int64  \n",
      " 7   OT                 966 non-null    int64  \n",
      "dtypes: float64(2), int64(5), object(1)\n",
      "memory usage: 60.5+ KB\n",
      "None\n"
     ]
    }
   ],
   "source": [
    "ILINET_DATA = pd.read_csv('data_files/illness/national_illness.csv')\n",
    "print(ILINET_DATA.head())\n",
    "print(ILINET_DATA.info())"
   ]
  },
  {
   "cell_type": "code",
   "execution_count": 24,
   "metadata": {},
   "outputs": [
    {
     "name": "stdout",
     "output_type": "stream",
     "text": [
      "                  date     0     1      2      3      4       5     6       7  \\\n",
      "0  2016-07-01 02:00:00  14.0  69.0  234.0  415.0  215.0  1056.0  29.0   840.0   \n",
      "1  2016-07-01 03:00:00  18.0  92.0  312.0  556.0  292.0  1363.0  29.0  1102.0   \n",
      "2  2016-07-01 04:00:00  21.0  96.0  312.0  560.0  272.0  1240.0  29.0  1025.0   \n",
      "3  2016-07-01 05:00:00  20.0  92.0  312.0  443.0  213.0   845.0  24.0   833.0   \n",
      "4  2016-07-01 06:00:00  22.0  91.0  312.0  346.0  190.0   647.0  16.0   733.0   \n",
      "\n",
      "       8  ...    311    312      313     314     315   316   317     318  \\\n",
      "0  226.0  ...  676.0  372.0  80100.0  4719.0  5002.0  48.0  38.0  1558.0   \n",
      "1  271.0  ...  805.0  452.0  95200.0  4643.0  6617.0  65.0  47.0  2177.0   \n",
      "2  270.0  ...  817.0  430.0  96600.0  4285.0  6571.0  64.0  43.0  2193.0   \n",
      "3  179.0  ...  801.0  291.0  94500.0  4222.0  6365.0  65.0  39.0  1315.0   \n",
      "4  186.0  ...  807.0  279.0  91300.0  4116.0  6298.0  75.0  40.0  1378.0   \n",
      "\n",
      "     319      OT  \n",
      "0  182.0  2162.0  \n",
      "1  253.0  2835.0  \n",
      "2  218.0  2764.0  \n",
      "3  195.0  2735.0  \n",
      "4  191.0  2721.0  \n",
      "\n",
      "[5 rows x 322 columns]\n",
      "<class 'pandas.core.frame.DataFrame'>\n",
      "RangeIndex: 26304 entries, 0 to 26303\n",
      "Columns: 322 entries, date to OT\n",
      "dtypes: float64(321), object(1)\n",
      "memory usage: 64.6+ MB\n",
      "None\n"
     ]
    }
   ],
   "source": [
    "ELECTRICITY_DATA = pd.read_csv('data_files/electricity/electricity.csv')\n",
    "print(ELECTRICITY_DATA.head())\n",
    "print(ELECTRICITY_DATA.info())"
   ]
  },
  {
   "cell_type": "code",
   "execution_count": 17,
   "metadata": {},
   "outputs": [
    {
     "name": "stdout",
     "output_type": "stream",
     "text": [
      "                  date   HUFL   HULL   MUFL   MULL   LUFL   LULL         OT\n",
      "0  2016-07-01 00:00:00  5.827  2.009  1.599  0.462  4.203  1.340  30.531000\n",
      "1  2016-07-01 01:00:00  5.693  2.076  1.492  0.426  4.142  1.371  27.787001\n",
      "2  2016-07-01 02:00:00  5.157  1.741  1.279  0.355  3.777  1.218  27.787001\n",
      "3  2016-07-01 03:00:00  5.090  1.942  1.279  0.391  3.807  1.279  25.044001\n",
      "4  2016-07-01 04:00:00  5.358  1.942  1.492  0.462  3.868  1.279  21.948000\n",
      "                  date       HUFL    HULL       MUFL   MULL   LUFL   LULL  \\\n",
      "0  2016-07-01 00:00:00  41.130001  12.481  36.535999  9.355  4.424  1.311   \n",
      "1  2016-07-01 01:00:00  37.528000  10.136  33.936001  7.532  4.435  1.215   \n",
      "2  2016-07-01 02:00:00  37.946999  11.309  35.330002  9.007  2.100  0.000   \n",
      "3  2016-07-01 03:00:00  38.952000  11.895  35.543999  9.436  3.380  1.215   \n",
      "4  2016-07-01 04:00:00  38.113998  11.476  35.410000  9.623  2.036  0.000   \n",
      "\n",
      "          OT  \n",
      "0  38.661999  \n",
      "1  37.124001  \n",
      "2  36.465000  \n",
      "3  33.608501  \n",
      "4  31.850500  \n",
      "                  date   HUFL   HULL   MUFL   MULL   LUFL   LULL         OT\n",
      "0  2016-07-01 00:00:00  5.827  2.009  1.599  0.462  4.203  1.340  30.531000\n",
      "1  2016-07-01 00:15:00  5.760  2.076  1.492  0.426  4.264  1.401  30.459999\n",
      "2  2016-07-01 00:30:00  5.760  1.942  1.492  0.391  4.234  1.310  30.038000\n",
      "3  2016-07-01 00:45:00  5.760  1.942  1.492  0.426  4.234  1.310  27.013000\n",
      "4  2016-07-01 01:00:00  5.693  2.076  1.492  0.426  4.142  1.371  27.787001\n",
      "                  date       HUFL    HULL       MUFL   MULL   LUFL   LULL  \\\n",
      "0  2016-07-01 00:00:00  41.130001  12.481  36.535999  9.355  4.424  1.311   \n",
      "1  2016-07-01 00:15:00  39.622002  11.309  35.543999  8.551  3.209  1.258   \n",
      "2  2016-07-01 00:30:00  38.868000  10.555  34.365002  7.586  4.435  1.258   \n",
      "3  2016-07-01 00:45:00  35.518002   9.214  32.569000  8.712  4.435  1.215   \n",
      "4  2016-07-01 01:00:00  37.528000  10.136  33.936001  7.532  4.435  1.215   \n",
      "\n",
      "          OT  \n",
      "0  38.661999  \n",
      "1  38.223000  \n",
      "2  37.344002  \n",
      "3  37.124001  \n",
      "4  37.124001  \n"
     ]
    }
   ],
   "source": [
    "ETTH1_DATA = pd.read_csv('data_files/ETT-small/ETTh1.csv')\n",
    "print(ETTH1_DATA.head())\n",
    "ETTH2_DATA = pd.read_csv('data_files/ETT-small/ETTh2.csv')\n",
    "print(ETTH2_DATA.head())\n",
    "ETTM1_DATA = pd.read_csv('data_files/ETT-small/ETTm1.csv')\n",
    "print(ETTM1_DATA.head())\n",
    "ETTM2_DATA = pd.read_csv('data_files/ETT-small/ETTm2.csv')\n",
    "print(ETTM2_DATA.head())\n"
   ]
  },
  {
   "cell_type": "code",
   "execution_count": 18,
   "metadata": {},
   "outputs": [
    {
     "name": "stdout",
     "output_type": "stream",
     "text": [
      "                  date  p (mbar)  T (degC)  Tpot (K)  Tdew (degC)  rh (%)  \\\n",
      "0  2020-01-01 00:10:00   1008.89      0.71    273.18        -1.33    86.1   \n",
      "1  2020-01-01 00:20:00   1008.76      0.75    273.22        -1.44    85.2   \n",
      "2  2020-01-01 00:30:00   1008.66      0.73    273.21        -1.48    85.1   \n",
      "3  2020-01-01 00:40:00   1008.64      0.37    272.86        -1.64    86.3   \n",
      "4  2020-01-01 00:50:00   1008.61      0.33    272.82        -1.50    87.4   \n",
      "\n",
      "   VPmax (mbar)  VPact (mbar)  VPdef (mbar)  sh (g/kg)  ...  wv (m/s)  \\\n",
      "0          6.43          5.54          0.89       3.42  ...      1.02   \n",
      "1          6.45          5.49          0.95       3.39  ...      0.43   \n",
      "2          6.44          5.48          0.96       3.39  ...      0.61   \n",
      "3          6.27          5.41          0.86       3.35  ...      1.11   \n",
      "4          6.26          5.47          0.79       3.38  ...      0.49   \n",
      "\n",
      "   max. wv (m/s)  wd (deg)  rain (mm)  raining (s)  SWDR (W/m�)  \\\n",
      "0           1.60     224.3        0.0          0.0          0.0   \n",
      "1           0.84     206.8        0.0          0.0          0.0   \n",
      "2           1.48     197.1        0.0          0.0          0.0   \n",
      "3           1.48     206.4        0.0          0.0          0.0   \n",
      "4           1.40     209.6        0.0          0.0          0.0   \n",
      "\n",
      "   PAR (�mol/m�/s)  max. PAR (�mol/m�/s)  Tlog (degC)     OT  \n",
      "0              0.0                   0.0        11.45  428.1  \n",
      "1              0.0                   0.0        11.51  428.0  \n",
      "2              0.0                   0.0        11.60  427.6  \n",
      "3              0.0                   0.0        11.70  430.0  \n",
      "4              0.0                   0.0        11.81  432.2  \n",
      "\n",
      "[5 rows x 22 columns]\n"
     ]
    }
   ],
   "source": [
    "WEATHER_DATA = pd.read_csv('data_files/weather/weather.csv')\n",
    "print(WEATHER_DATA.head())"
   ]
  },
  {
   "cell_type": "code",
   "execution_count": 19,
   "metadata": {},
   "outputs": [
    {
     "name": "stdout",
     "output_type": "stream",
     "text": [
      "                  date       0       1       2       3       4       5  \\\n",
      "0  2016-07-01 02:00:00  0.0048  0.0146  0.0289  0.0142  0.0064  0.0232   \n",
      "1  2016-07-01 03:00:00  0.0072  0.0148  0.0350  0.0174  0.0084  0.0240   \n",
      "2  2016-07-01 04:00:00  0.0040  0.0101  0.0267  0.0124  0.0049  0.0170   \n",
      "3  2016-07-01 05:00:00  0.0039  0.0060  0.0218  0.0090  0.0029  0.0118   \n",
      "4  2016-07-01 06:00:00  0.0042  0.0055  0.0191  0.0082  0.0024  0.0095   \n",
      "\n",
      "        6       7       8  ...     852     853     854     855     856  \\\n",
      "0  0.0162  0.0242  0.0341  ...  0.0051  0.0051  0.0074  0.0079  0.0051   \n",
      "1  0.0201  0.0338  0.0434  ...  0.0036  0.0036  0.0107  0.0058  0.0036   \n",
      "2  0.0127  0.0255  0.0332  ...  0.0030  0.0030  0.0043  0.0050  0.0030   \n",
      "3  0.0088  0.0163  0.0211  ...  0.0033  0.0033  0.0019  0.0052  0.0033   \n",
      "4  0.0064  0.0087  0.0144  ...  0.0049  0.0049  0.0011  0.0071  0.0049   \n",
      "\n",
      "      857     858     859     860      OT  \n",
      "0  0.0051  0.0339  0.0051  0.0100  0.0121  \n",
      "1  0.0036  0.0348  0.0036  0.0087  0.0136  \n",
      "2  0.0030  0.0327  0.0030  0.0061  0.0107  \n",
      "3  0.0033  0.0292  0.0033  0.0040  0.0071  \n",
      "4  0.0049  0.0264  0.0049  0.0040  0.0039  \n",
      "\n",
      "[5 rows x 863 columns]\n"
     ]
    }
   ],
   "source": [
    "TRAFFIC_DATA = pd.read_csv('data_files/traffic/traffic.csv')\n",
    "print(TRAFFIC_DATA.head())"
   ]
  },
  {
   "cell_type": "code",
   "execution_count": null,
   "metadata": {},
   "outputs": [],
   "source": []
  }
 ],
 "metadata": {
  "kernelspec": {
   "display_name": "base",
   "language": "python",
   "name": "python3"
  },
  "language_info": {
   "codemirror_mode": {
    "name": "ipython",
    "version": 3
   },
   "file_extension": ".py",
   "mimetype": "text/x-python",
   "name": "python",
   "nbconvert_exporter": "python",
   "pygments_lexer": "ipython3",
   "version": "3.8.8"
  }
 },
 "nbformat": 4,
 "nbformat_minor": 2
}
