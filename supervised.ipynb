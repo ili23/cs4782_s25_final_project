{
 "cells": [
  {
   "cell_type": "markdown",
   "metadata": {},
   "source": [
    "# Installations and Setup"
   ]
  },
  {
   "cell_type": "code",
   "execution_count": null,
   "metadata": {
    "vscode": {
     "languageId": "plaintext"
    }
   },
   "outputs": [],
   "source": [
    "from google.colab import drive\n",
    "import sys"
   ]
  },
  {
   "cell_type": "code",
   "execution_count": null,
   "metadata": {
    "vscode": {
     "languageId": "plaintext"
    }
   },
   "outputs": [],
   "source": [
    "# TODO: Mount your Google Drive; this allows the runtime environment to access your drive.\n",
    "drive.mount('/content/gdrive')"
   ]
  },
  {
   "cell_type": "code",
   "execution_count": null,
   "metadata": {
    "vscode": {
     "languageId": "plaintext"
    }
   },
   "outputs": [],
   "source": [
    "%cd \"/content/gdrive/MyDrive/cs4782_s25_final_project\"\n",
    "%pip install -r /content/gdrive/MyDrive/cs4782_s25_final_project/requirements.txt\n",
    "\n",
    "import IPython\n",
    "\n",
    "ipython = IPython.get_ipython()\n",
    "ipython.run_line_magic(\"load_ext\", \"autoreload\")\n",
    "ipython.run_line_magic(\"autoreload\", \"2\")"
   ]
  },
  {
   "cell_type": "code",
   "execution_count": null,
   "metadata": {
    "vscode": {
     "languageId": "plaintext"
    }
   },
   "outputs": [],
   "source": [
    "import numpy as np\n",
    "import pandas as pd\n",
    "import torch\n",
    "import torch.nn as nn\n",
    "import torch.nn.functional as F\n",
    "from models.architecture.assembled import AssembledModel\n",
    "from models.train_loop import PatchTSTTrainer\n",
    "import random\n",
    "import lightning as L\n",
    "\n",
    "random.seed(0)\n",
    "torch.manual_seed(0)"
   ]
  },
  {
   "cell_type": "markdown",
   "metadata": {},
   "source": [
    "# Model Architecture"
   ]
  },
  {
   "cell_type": "code",
   "execution_count": null,
   "metadata": {
    "vscode": {
     "languageId": "plaintext"
    }
   },
   "outputs": [],
   "source": [
    "patch_tst = AssembledModel(1,1,1,1)"
   ]
  },
  {
   "cell_type": "markdown",
   "metadata": {},
   "source": [
    "# Train Model"
   ]
  },
  {
   "cell_type": "code",
   "execution_count": null,
   "metadata": {
    "vscode": {
     "languageId": "plaintext"
    }
   },
   "outputs": [],
   "source": [
    "output_dir = \"./models/results\"\n",
    "logs_output_dir = \"./models/results/logs\"\n",
    "model_trainer = PatchTSTTrainer(patch_tst, output_dir)\n",
    "device = \"cpu\"\n",
    "dataloader = TSDataLoader(\"./data/data_files/electricity/electricity.csv\", device=device)\n",
    "train_dataloader, val_dataloader = dataloader.get_data_loaders()\n",
    "\n",
    "tb_logger = pl_loggers.TensorBoardLogger(save_dir=logs_output_dir)\n",
    "\n",
    "trainer = L.Trainer(max_epochs=20, \n",
    "                    check_val_every_n_epoch=2,\n",
    "                    num_sanity_val_steps=0, \n",
    "                    logger=tb_logger\n",
    "                    )"
   ]
  },
  {
   "cell_type": "markdown",
   "metadata": {},
   "source": [
    "# Evaluate Model"
   ]
  },
  {
   "cell_type": "code",
   "execution_count": null,
   "metadata": {
    "vscode": {
     "languageId": "plaintext"
    }
   },
   "outputs": [],
   "source": [
    "print(\"Starting training...\")\n",
    "trainer.fit(bg, train_dataloader, val_dataloader)\n",
    "print(\"Training completed.\")"
   ]
  }
 ],
 "metadata": {
  "language_info": {
   "name": "python"
  }
 },
 "nbformat": 4,
 "nbformat_minor": 2
}
